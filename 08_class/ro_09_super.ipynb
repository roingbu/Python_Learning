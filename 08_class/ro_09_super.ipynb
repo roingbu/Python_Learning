{
 "cells": [
  {
   "attachments": {},
   "cell_type": "markdown",
   "metadata": {},
   "source": [
    "第一种方法：\n",
    "我只需要写我子类所需要的属性，然后父类需要的属性我用*wargs来表示，然后在__init__函数中，首先初始化我的子类的属性，将父类需要的属性打包成*wargs送入super()中\n"
   ]
  },
  {
   "cell_type": "code",
   "execution_count": 1,
   "metadata": {},
   "outputs": [],
   "source": [
    "class Car(object):\n",
    "    def __init__(self, owner, year, model):\n",
    "        self.owner = owner\n",
    "        self.year = year\n",
    "        self.model = model \n",
    "\n",
    "    def get_info(self):\n",
    "        \"\"\"打印车辆信息\"\"\"\n",
    "        print(f'The owner of the car is {self.owner}\\n' \\\n",
    "             f'The model of the car is {self.year}-{self.model}')\n"
   ]
  },
  {
   "cell_type": "code",
   "execution_count": 2,
   "metadata": {},
   "outputs": [
    {
     "name": "stdout",
     "output_type": "stream",
     "text": [
      "The owner of the car is Jarry\n",
      "The model of the car is 2021-Roma\n"
     ]
    }
   ],
   "source": [
    "ferrari = Car('Jarry', '2021', 'Roma')\n",
    "ferrari.get_info()\n"
   ]
  },
  {
   "cell_type": "code",
   "execution_count": 3,
   "metadata": {},
   "outputs": [],
   "source": [
    "class ElectricalCar(Car):\n",
    "    def __init__(self, battery, *wargs):\n",
    "        super().__init__(*wargs)  # 将剩下的参数打包送给super\n",
    "        self.battery = battery  # 从参数列表中拿出battery初始化子类属性\n",
    "    \n",
    "    def get_power(self):\n",
    "        \"\"\"打印电池信息\"\"\"\n",
    "        print(f'The battery of this car is {self.battery}')\n"
   ]
  },
  {
   "cell_type": "code",
   "execution_count": 4,
   "metadata": {},
   "outputs": [
    {
     "name": "stdout",
     "output_type": "stream",
     "text": [
      "The owner of the car is Jarry\n",
      "The model of the car is 2021-Model S\n",
      "The battery of this car is 10000kwh\n"
     ]
    }
   ],
   "source": [
    "tesla = ElectricalCar('10000kwh','Jarry', 2021, 'Model S')\n",
    "tesla.get_info()\n",
    "tesla.get_power()\n"
   ]
  },
  {
   "attachments": {},
   "cell_type": "markdown",
   "metadata": {},
   "source": [
    "我们的父类Car由三个参数，我们定义了一个ElectricCar需要一个额外参数，那么总参数量一共是3+1=4个，如果我们把这四个参数都写出来，那不是也可以顺利继承父类。其实也可以这么做"
   ]
  },
  {
   "cell_type": "code",
   "execution_count": 5,
   "metadata": {},
   "outputs": [],
   "source": [
    "class ElectricalCar(Car):\n",
    "    def __init__(self, battery, owner, year, model):\n",
    "        super().__init__(owner, year, model)\n",
    "        self.battery = battery\n",
    "    \n",
    "    def get_power(self):\n",
    "        \"\"\"打印电池信息\"\"\"\n",
    "        print(f'The battery of this car is {self.battery}')"
   ]
  },
  {
   "cell_type": "code",
   "execution_count": 6,
   "metadata": {},
   "outputs": [
    {
     "name": "stdout",
     "output_type": "stream",
     "text": [
      "The owner of the car is Jarry\n",
      "The model of the car is 2021-Model S\n",
      "The battery of this car is 10000kwh\n"
     ]
    }
   ],
   "source": [
    "tesla = ElectricalCar('10000kwh','Jarry', 2021, 'Model S')\n",
    "tesla.get_info()\n",
    "tesla.get_power()"
   ]
  },
  {
   "attachments": {},
   "cell_type": "markdown",
   "metadata": {},
   "source": [
    "看来把参数全部写出来也是正确的，只不过这相对于第一种方法比较麻烦，但是这种方法可以方便我们理解super().__init__()"
   ]
  },
  {
   "cell_type": "markdown",
   "metadata": {},
   "source": []
  }
 ],
 "metadata": {
  "kernelspec": {
   "display_name": "Python 3",
   "language": "python",
   "name": "python3"
  },
  "language_info": {
   "codemirror_mode": {
    "name": "ipython",
    "version": 3
   },
   "file_extension": ".py",
   "mimetype": "text/x-python",
   "name": "python",
   "nbconvert_exporter": "python",
   "pygments_lexer": "ipython3",
   "version": "3.8.10"
  },
  "orig_nbformat": 4
 },
 "nbformat": 4,
 "nbformat_minor": 2
}
